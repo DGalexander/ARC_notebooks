{
 "cells": [
  {
   "cell_type": "markdown",
   "metadata": {},
   "source": [
    "# 1\tDraft Data Dictionary Land Management Schemes [Oct 2020]"
   ]
  },
  {
   "cell_type": "markdown",
   "metadata": {},
   "source": [
    "## Introduction"
   ]
  },
  {
   "cell_type": "markdown",
   "metadata": {},
   "source": [
    "The area managed under agri-environment agreements: ie the total area under Environmental Stewardship (ES), Countryside Stewardship (CS) (including its different levels), and area under England Woodland Grant Scheme (EWGS)\n",
    "\n",
    "**ES** is an agri-environment scheme which provides funding to farmers and other land managers in England who deliver effective environmental management on their land.\n",
    "\n",
    "It has four elements:\n",
    "•\tEntry Level Stewardship (ELS)\n",
    "•\tOrganic Entry Level Stewardship (OELS)\n",
    "•\tUplands Entry Level Stewardship (Uplands ELS)\n",
    "•\tHigher Level Stewardship (HLS).\n",
    "\n",
    "Upland ELS can apply to any agreement with an ELS or OELS component and therefore their figures are subsumed in the ELS, ELS/HLS, OELS and OELS/HLS categories.\n",
    "\n",
    "**CS** is an agri-environment scheme with Higher Tier, full Mid tier, Mid Tier wildlife packages and Hedgerows and Boundaries grant schemes.\n",
    "\n",
    "The Countryside Stewardship Scheme was originally an agri-environment scheme run by the United Kingdom Government set up in 1991. In its original form it expired in 2014. It was relaunched for the Rural Development Programme England (RDPE) 2014-2020 with £3.1bn of government subsidy for agriculture and forestry, replacing the previous Environmental Stewardship scheme.\n",
    "\n",
    "**EWGS** is the legacy England Woodland Grant Scheme by the Forestry Commission\n",
    "\n",
    "The PDNPA also has it's own small scale Land Management Grant Scheme not currently in this analysis."
   ]
  },
  {
   "cell_type": "markdown",
   "metadata": {},
   "source": [
    "## Manage the GIS"
   ]
  },
  {
   "cell_type": "code",
   "execution_count": 22,
   "metadata": {},
   "outputs": [
    {
     "name": "stdout",
     "output_type": "stream",
     "text": [
      "GIS @ https://www.arcgis.com/ version:8.3\n"
     ]
    }
   ],
   "source": [
    "from arcgis import GIS\n",
    "from arcgis.features.manage_data import extract_data\n",
    "import arcpy\n",
    "import os\n",
    "import pandas\n",
    "gis = GIS(\"Pro\")\n",
    "print(gis)"
   ]
  },
  {
   "cell_type": "code",
   "execution_count": 24,
   "metadata": {},
   "outputs": [],
   "source": [
    "# setup the environment\n",
    "arcpy.env.addOutputsToMap = True\n",
    "arcpy.env.overwriteOutput = True\n",
    "arcpy.env.workspace = 'C:/Users/alexad/Documents/ArcGIS/Projects/Land Management Schemes/data'\n",
    "outgdb = 'C:/Users/alexad/Documents/ArcGIS/Projects/Land Management Schemes/Land Management Schemes.gdb'"
   ]
  },
  {
   "cell_type": "markdown",
   "metadata": {},
   "source": [
    "## Data used in this analysis\n",
    "\n",
    "Use the ESRI living Atlas layers as the sources of data"
   ]
  },
  {
   "cell_type": "code",
   "execution_count": 4,
   "metadata": {},
   "outputs": [],
   "source": [
    "# find the data\n",
    "CS_item = gis.content.get('dd63fbfeda8e48878eb19db84883147b')\n",
    "ES_item = gis.content.get('ca68c90958c342a285d6370ddd7edd66')\n",
    "EWGS_1_item = gis.content.get('d527d55fd5104e80b1bf2d80643f5865')\n",
    "EWGS_3_item = gis.content.get('3e26fc54a1d4479f90d5f268cc83a0a9')\n",
    "PDNP_item = gis.content.get('73dc1cbc587f4e518a0010dceb9eab24')"
   ]
  },
  {
   "cell_type": "code",
   "execution_count": 5,
   "metadata": {},
   "outputs": [
    {
     "data": {
      "text/html": [
       "<div class=\"item_container\" style=\"height: auto; overflow: hidden; border: 1px solid #cfcfcf; border-radius: 2px; background: #f6fafa; line-height: 1.21429em; padding: 10px;\">\n",
       "                    <div class=\"item_left\" style=\"width: 210px; float: left;\">\n",
       "                       <a href='https://www.arcgis.com//home/item.html?id=dd63fbfeda8e48878eb19db84883147b' target='_blank'>\n",
       "                        <img src='data:image/png;base64,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' width='200' height='133' class=\"itemThumbnail\">\n",
       "                       </a>\n",
       "                    </div>\n",
       "\n",
       "                    <div class=\"item_right\"     style=\"float: none; width: auto; overflow: hidden;\">\n",
       "                        <a href='https://www.arcgis.com//home/item.html?id=dd63fbfeda8e48878eb19db84883147b' target='_blank'><b>Countryside Stewardship Scheme Agreements (England)</b>\n",
       "                        </a>\n",
       "                        <br/>Countryside Stewardship Scheme Agreements holding boundaries.  This scheme is now close to new applicants. <img src='https://www.arcgis.com//home/js/jsapi/esri/css/images/item_type_icons/featureshosted16.png' style=\"vertical-align:middle;\">Feature Layer Collection by Opendata_NE\n",
       "                        <br/>Last Modified: June 27, 2019\n",
       "                        <br/>0 comments, 2,936 views\n",
       "                    </div>\n",
       "                </div>\n",
       "                "
      ],
      "text/plain": [
       "<Item title:\"Countryside Stewardship Scheme Agreements (England)\" type:Feature Layer Collection owner:Opendata_NE>"
      ]
     },
     "metadata": {},
     "output_type": "display_data"
    },
    {
     "data": {
      "text/html": [
       "<div class=\"item_container\" style=\"height: auto; overflow: hidden; border: 1px solid #cfcfcf; border-radius: 2px; background: #f6fafa; line-height: 1.21429em; padding: 10px;\">\n",
       "                    <div class=\"item_left\" style=\"width: 210px; float: left;\">\n",
       "                       <a href='https://www.arcgis.com//home/item.html?id=ca68c90958c342a285d6370ddd7edd66' target='_blank'>\n",
       "                        <img src='data:image/png;base64,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' width='200' height='133' class=\"itemThumbnail\">\n",
       "                       </a>\n",
       "                    </div>\n",
       "\n",
       "                    <div class=\"item_right\"     style=\"float: none; width: auto; overflow: hidden;\">\n",
       "                        <a href='https://www.arcgis.com//home/item.html?id=ca68c90958c342a285d6370ddd7edd66' target='_blank'><b>Environmental Stewardship Scheme Agreements (England)</b>\n",
       "                        </a>\n",
       "                        <br/>Environmental Stewardship Scheme (England) holdings agreement polygons (includes farm business and payment info)<img src='https://www.arcgis.com//home/js/jsapi/esri/css/images/item_type_icons/featureshosted16.png' style=\"vertical-align:middle;\">Feature Layer Collection by Opendata_NE\n",
       "                        <br/>Last Modified: April 22, 2020\n",
       "                        <br/>0 comments, 6,721 views\n",
       "                    </div>\n",
       "                </div>\n",
       "                "
      ],
      "text/plain": [
       "<Item title:\"Environmental Stewardship Scheme Agreements (England)\" type:Feature Layer Collection owner:Opendata_NE>"
      ]
     },
     "metadata": {},
     "output_type": "display_data"
    },
    {
     "data": {
      "text/html": [
       "<div class=\"item_container\" style=\"height: auto; overflow: hidden; border: 1px solid #cfcfcf; border-radius: 2px; background: #f6fafa; line-height: 1.21429em; padding: 10px;\">\n",
       "                    <div class=\"item_left\" style=\"width: 210px; float: left;\">\n",
       "                       <a href='https://www.arcgis.com//home/item.html?id=d527d55fd5104e80b1bf2d80643f5865' target='_blank'>\n",
       "                        <img src='data:image/png;base64,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' width='200' height='133' class=\"itemThumbnail\">\n",
       "                       </a>\n",
       "                    </div>\n",
       "\n",
       "                    <div class=\"item_right\"     style=\"float: none; width: auto; overflow: hidden;\">\n",
       "                        <a href='https://www.arcgis.com//home/item.html?id=d527d55fd5104e80b1bf2d80643f5865' target='_blank'><b>Woodland Grant Scheme 1 England</b>\n",
       "                        </a>\n",
       "                        <br/>Woodland Grant Scheme 1 England<img src='https://www.arcgis.com//home/js/jsapi/esri/css/images/item_type_icons/featureshosted16.png' style=\"vertical-align:middle;\">Feature Layer Collection by mapping.geodata_forestry\n",
       "                        <br/>Last Modified: May 27, 2016\n",
       "                        <br/>0 comments, 413 views\n",
       "                    </div>\n",
       "                </div>\n",
       "                "
      ],
      "text/plain": [
       "<Item title:\"Woodland Grant Scheme 1 England\" type:Feature Layer Collection owner:mapping.geodata_forestry>"
      ]
     },
     "metadata": {},
     "output_type": "display_data"
    },
    {
     "data": {
      "text/html": [
       "<div class=\"item_container\" style=\"height: auto; overflow: hidden; border: 1px solid #cfcfcf; border-radius: 2px; background: #f6fafa; line-height: 1.21429em; padding: 10px;\">\n",
       "                    <div class=\"item_left\" style=\"width: 210px; float: left;\">\n",
       "                       <a href='https://www.arcgis.com//home/item.html?id=3e26fc54a1d4479f90d5f268cc83a0a9' target='_blank'>\n",
       "                        <img src='data:image/png;base64,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' width='200' height='133' class=\"itemThumbnail\">\n",
       "                       </a>\n",
       "                    </div>\n",
       "\n",
       "                    <div class=\"item_right\"     style=\"float: none; width: auto; overflow: hidden;\">\n",
       "                        <a href='https://www.arcgis.com//home/item.html?id=3e26fc54a1d4479f90d5f268cc83a0a9' target='_blank'><b>Woodland Grant Scheme 3 England</b>\n",
       "                        </a>\n",
       "                        <br/>Woodland Grant Scheme 3 England<img src='https://www.arcgis.com//home/js/jsapi/esri/css/images/item_type_icons/featureshosted16.png' style=\"vertical-align:middle;\">Feature Layer Collection by mapping.geodata_forestry\n",
       "                        <br/>Last Modified: August 20, 2018\n",
       "                        <br/>0 comments, 72 views\n",
       "                    </div>\n",
       "                </div>\n",
       "                "
      ],
      "text/plain": [
       "<Item title:\"Woodland Grant Scheme 3 England\" type:Feature Layer Collection owner:mapping.geodata_forestry>"
      ]
     },
     "metadata": {},
     "output_type": "display_data"
    },
    {
     "data": {
      "text/html": [
       "<div class=\"item_container\" style=\"height: auto; overflow: hidden; border: 1px solid #cfcfcf; border-radius: 2px; background: #f6fafa; line-height: 1.21429em; padding: 10px;\">\n",
       "                    <div class=\"item_left\" style=\"width: 210px; float: left;\">\n",
       "                       <a href='https://www.arcgis.com//home/item.html?id=73dc1cbc587f4e518a0010dceb9eab24' target='_blank'>\n",
       "                        <img src='data:image/png;base64,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' width='200' height='133' class=\"itemThumbnail\">\n",
       "                       </a>\n",
       "                    </div>\n",
       "\n",
       "                    <div class=\"item_right\"     style=\"float: none; width: auto; overflow: hidden;\">\n",
       "                        <a href='https://www.arcgis.com//home/item.html?id=73dc1cbc587f4e518a0010dceb9eab24' target='_blank'><b>PDNP</b>\n",
       "                        </a>\n",
       "                        <br/><img src='https://www.arcgis.com//home/js/jsapi/esri/css/images/item_type_icons/featureshosted16.png' style=\"vertical-align:middle;\">Feature Layer Collection by david.alexander_PDNPA\n",
       "                        <br/>Last Modified: October 04, 2020\n",
       "                        <br/>0 comments, 23 views\n",
       "                    </div>\n",
       "                </div>\n",
       "                "
      ],
      "text/plain": [
       "<Item title:\"PDNP\" type:Feature Layer Collection owner:david.alexander_PDNPA>"
      ]
     },
     "metadata": {},
     "output_type": "display_data"
    }
   ],
   "source": [
    "# display the items\n",
    "data = [CS_item, ES_item, EWGS_1_item, EWGS_3_item, PDNP_item]\n",
    "for item in data:\n",
    "    display(item)"
   ]
  },
  {
   "cell_type": "code",
   "execution_count": 10,
   "metadata": {},
   "outputs": [],
   "source": [
    "# download the data\n",
    "CS_gbd = extract_data([CS_item], data_format = 'Shapefile')\n",
    "CS_gbd.download('C:/Users/alexad/Documents/ArcGIS/Projects/Land Management Schemes/data')\n",
    "ES_gbd = extract_data([ES_item], data_format = 'Shapefile')\n",
    "ES_gbd.download('C:/Users/alexad/Documents/ArcGIS/Projects/Land Management Schemes/data')\n",
    "PDNP_gbd = extract_data([PDNP_item], data_format = 'Shapefile')\n",
    "PDNP_gbd.download('C:/Users/alexad/Documents/ArcGIS/Projects/Land Management Schemes/data')"
   ]
  },
  {
   "cell_type": "code",
   "execution_count": 20,
   "metadata": {},
   "outputs": [],
   "source": [
    "# add the data to the geodatabase\n",
    "fcs = arcpy.ListFeatureClasses()\n",
    "for fc in fcs:\n",
    "    desc = arcpy.da.Describe(fc)\n",
    "    outfc = os.path.join(outgdb, desc[\"baseName\"])\n",
    "    arcpy.CopyFeatures_management(fc, outfc)"
   ]
  },
  {
   "cell_type": "markdown",
   "metadata": {},
   "source": [
    "## Data preprocessing"
   ]
  },
  {
   "cell_type": "code",
   "execution_count": 21,
   "metadata": {},
   "outputs": [
    {
     "data": {
      "text/html": [
       "<h2>Output</h2>C:/Users/alexad/Documents/ArcGIS/Projects/Land Management Schemes/data\\CS_clip.shp<h2>Messages</h2>Start Time: 26 October 2020 17:41:14<br/>Reading Features...<br/>Cracking Features...<br/>Assembling Features...<br/>Succeeded at 26 October 2020 17:41:16 (Elapsed Time: 1.50 seconds)<br/><style>.rendered_html td, .rendered_html th {text-align: left;}.rendered_html tbody {border: 1px solid black;}</style>"
      ],
      "text/plain": [
       "<Result 'C:/Users/alexad/Documents/ArcGIS/Projects/Land Management Schemes/data\\\\CS_clip.shp'>"
      ]
     },
     "execution_count": 21,
     "metadata": {},
     "output_type": "execute_result"
    }
   ],
   "source": [
    "# Clip the data to the PDNP National Park\n",
    "arcpy.Clip_analysis(\"Environmental_Stewardship_Scheme_Agreements__England____Natural_England.shp\", \"PDNP.shp\", \"ES_clip.shp\")\n",
    "arcpy.Clip_analysis(\"Countryside_Stewardship_Scheme_Agreements___Natural_England.shp\", \"PDNP.shp\", \"CS_clip.shp\")"
   ]
  },
  {
   "cell_type": "markdown",
   "metadata": {},
   "source": [
    "## Environmental Stewardship Processing\n",
    "\n",
    "Call **geopandas** to create a df and use **Pandas** for data processing"
   ]
  },
  {
   "cell_type": "code",
   "execution_count": 36,
   "metadata": {},
   "outputs": [],
   "source": [
    "import geopandas as gpd\n",
    "import pandas as pd\n",
    "ES_clip_gdf = gpd.read_file(\"C:/Users/alexad/Documents/ArcGIS/Projects/Land Management Schemes/data/ES_clip.shp\")"
   ]
  },
  {
   "cell_type": "code",
   "execution_count": 37,
   "metadata": {},
   "outputs": [
    {
     "data": {
      "text/html": [
       "<div>\n",
       "<style scoped>\n",
       "    .dataframe tbody tr th:only-of-type {\n",
       "        vertical-align: middle;\n",
       "    }\n",
       "\n",
       "    .dataframe tbody tr th {\n",
       "        vertical-align: top;\n",
       "    }\n",
       "\n",
       "    .dataframe thead th {\n",
       "        text-align: right;\n",
       "    }\n",
       "</style>\n",
       "<table border=\"1\" class=\"dataframe\">\n",
       "  <thead>\n",
       "    <tr style=\"text-align: right;\">\n",
       "      <th></th>\n",
       "      <th>FID_1</th>\n",
       "      <th>AGREF</th>\n",
       "      <th>CPH</th>\n",
       "      <th>CUSTNAME</th>\n",
       "      <th>TOWN</th>\n",
       "      <th>SCHEME</th>\n",
       "      <th>REGION</th>\n",
       "      <th>NCA</th>\n",
       "      <th>LAND_CTY</th>\n",
       "      <th>ELSAREA</th>\n",
       "      <th>HLSAREA</th>\n",
       "      <th>APPSTAT</th>\n",
       "      <th>LIVEDATE</th>\n",
       "      <th>STARTDAT</th>\n",
       "      <th>OPTSONAG</th>\n",
       "      <th>TILE</th>\n",
       "      <th>ENDDATE</th>\n",
       "      <th>RDA_NAME</th>\n",
       "      <th>GROSSAR</th>\n",
       "      <th>TOTCOST</th>\n",
       "      <th>AMTPAID</th>\n",
       "      <th>NUMPARCS</th>\n",
       "      <th>ARUAGR</th>\n",
       "      <th>PERMACS</th>\n",
       "      <th>EDUACS</th>\n",
       "      <th>UELSFLG</th>\n",
       "      <th>BUS_FLAG</th>\n",
       "      <th>SHAPE_Leng</th>\n",
       "      <th>SHAPE_Area</th>\n",
       "      <th>geometry</th>\n",
       "    </tr>\n",
       "  </thead>\n",
       "  <tbody>\n",
       "    <tr>\n",
       "      <th>0</th>\n",
       "      <td>44</td>\n",
       "      <td>AG00267487</td>\n",
       "      <td>090830045</td>\n",
       "      <td>P W Wood</td>\n",
       "      <td>Buxton</td>\n",
       "      <td>Entry Level plus Higher Level Stewardship</td>\n",
       "      <td>East Midlands</td>\n",
       "      <td>WHITE PEAK</td>\n",
       "      <td>Derbyshire</td>\n",
       "      <td>2013.27</td>\n",
       "      <td>3285.87</td>\n",
       "      <td>Live</td>\n",
       "      <td>26/10/2009</td>\n",
       "      <td>01/10/2009</td>\n",
       "      <td>A13,EA1,EB11,EL6,FDS,FEP,FSH,GF,HK16,HK6,HL10,...</td>\n",
       "      <td>SK</td>\n",
       "      <td>30/09/2021</td>\n",
       "      <td>East Midlands Area Team</td>\n",
       "      <td>95.87</td>\n",
       "      <td>144685.65</td>\n",
       "      <td>112089.23</td>\n",
       "      <td>5.0</td>\n",
       "      <td>95.87</td>\n",
       "      <td>NULL</td>\n",
       "      <td>N</td>\n",
       "      <td>N</td>\n",
       "      <td>N</td>\n",
       "      <td>8261.294114</td>\n",
       "      <td>9.586792e+05</td>\n",
       "      <td>MULTIPOLYGON (((419506.820 373301.300, 419510....</td>\n",
       "    </tr>\n",
       "    <tr>\n",
       "      <th>1</th>\n",
       "      <td>152</td>\n",
       "      <td>AG00284627</td>\n",
       "      <td>090658009</td>\n",
       "      <td>Peak District National Park Authority</td>\n",
       "      <td>Bakewell</td>\n",
       "      <td>Higher Level Stewardship</td>\n",
       "      <td>West Midlands</td>\n",
       "      <td>SOUTH WEST PEAK</td>\n",
       "      <td>Staffordshire</td>\n",
       "      <td>0.00</td>\n",
       "      <td>11970.25</td>\n",
       "      <td>Live</td>\n",
       "      <td>01/07/2010</td>\n",
       "      <td>01/07/2010</td>\n",
       "      <td>A13,CCG,FDS,FEP,FSH2010,GBD,GF,HC7,HC8,HK16,HK...</td>\n",
       "      <td>SJ</td>\n",
       "      <td>30/06/2020</td>\n",
       "      <td>East Midlands Area Team</td>\n",
       "      <td>412.45</td>\n",
       "      <td>419061.44</td>\n",
       "      <td>403596.88</td>\n",
       "      <td>93.0</td>\n",
       "      <td>412.45</td>\n",
       "      <td>NULL</td>\n",
       "      <td>N</td>\n",
       "      <td>N</td>\n",
       "      <td>Y</td>\n",
       "      <td>50600.853088</td>\n",
       "      <td>4.124155e+06</td>\n",
       "      <td>MULTIPOLYGON (((408334.600 358845.150, 408402....</td>\n",
       "    </tr>\n",
       "  </tbody>\n",
       "</table>\n",
       "</div>"
      ],
      "text/plain": [
       "   FID_1  ...                                           geometry\n",
       "0     44  ...  MULTIPOLYGON (((419506.820 373301.300, 419510....\n",
       "1    152  ...  MULTIPOLYGON (((408334.600 358845.150, 408402....\n",
       "\n",
       "[2 rows x 30 columns]"
      ]
     },
     "execution_count": 37,
     "metadata": {},
     "output_type": "execute_result"
    }
   ],
   "source": [
    "# take a look at the first 2 rows of the df\n",
    "ES_clip_gdf.head(2)"
   ]
  },
  {
   "cell_type": "markdown",
   "metadata": {
    "scrolled": true
   },
   "source": [
    "Create a new column **[END_YEAR]** and extract the calendar year from **[ENDDATE]** in the dataframe"
   ]
  },
  {
   "cell_type": "code",
   "execution_count": 38,
   "metadata": {},
   "outputs": [],
   "source": [
    "ES_clip_gdf['END_YEAR'] = pd.DatetimeIndex(ES_clip_gdf['ENDDATE']).year"
   ]
  },
  {
   "cell_type": "markdown",
   "metadata": {},
   "source": [
    "Create a new column **[AREA_CLIP]** using the clipped **geometry** and add the calculated area (as data has been clipped some agreements overlap the boundary). This new column shows the area (sqkm) just inside the National Parks boundary."
   ]
  },
  {
   "cell_type": "code",
   "execution_count": 39,
   "metadata": {},
   "outputs": [],
   "source": [
    "ES_clip_gdf['AREA_CLIP'] = ES_clip_gdf['geometry'].area/10**6"
   ]
  },
  {
   "cell_type": "code",
   "execution_count": 40,
   "metadata": {},
   "outputs": [
    {
     "data": {
      "text/html": [
       "<div>\n",
       "<style scoped>\n",
       "    .dataframe tbody tr th:only-of-type {\n",
       "        vertical-align: middle;\n",
       "    }\n",
       "\n",
       "    .dataframe tbody tr th {\n",
       "        vertical-align: top;\n",
       "    }\n",
       "\n",
       "    .dataframe thead th {\n",
       "        text-align: right;\n",
       "    }\n",
       "</style>\n",
       "<table border=\"1\" class=\"dataframe\">\n",
       "  <thead>\n",
       "    <tr style=\"text-align: right;\">\n",
       "      <th></th>\n",
       "      <th>FID_1</th>\n",
       "      <th>AGREF</th>\n",
       "      <th>CPH</th>\n",
       "      <th>CUSTNAME</th>\n",
       "      <th>TOWN</th>\n",
       "      <th>SCHEME</th>\n",
       "      <th>REGION</th>\n",
       "      <th>NCA</th>\n",
       "      <th>LAND_CTY</th>\n",
       "      <th>ELSAREA</th>\n",
       "      <th>HLSAREA</th>\n",
       "      <th>APPSTAT</th>\n",
       "      <th>LIVEDATE</th>\n",
       "      <th>STARTDAT</th>\n",
       "      <th>OPTSONAG</th>\n",
       "      <th>TILE</th>\n",
       "      <th>ENDDATE</th>\n",
       "      <th>RDA_NAME</th>\n",
       "      <th>GROSSAR</th>\n",
       "      <th>TOTCOST</th>\n",
       "      <th>AMTPAID</th>\n",
       "      <th>NUMPARCS</th>\n",
       "      <th>ARUAGR</th>\n",
       "      <th>PERMACS</th>\n",
       "      <th>EDUACS</th>\n",
       "      <th>UELSFLG</th>\n",
       "      <th>BUS_FLAG</th>\n",
       "      <th>SHAPE_Leng</th>\n",
       "      <th>SHAPE_Area</th>\n",
       "      <th>geometry</th>\n",
       "      <th>END_YEAR</th>\n",
       "      <th>AREA_CLIP</th>\n",
       "    </tr>\n",
       "  </thead>\n",
       "  <tbody>\n",
       "    <tr>\n",
       "      <th>0</th>\n",
       "      <td>44</td>\n",
       "      <td>AG00267487</td>\n",
       "      <td>090830045</td>\n",
       "      <td>P W Wood</td>\n",
       "      <td>Buxton</td>\n",
       "      <td>Entry Level plus Higher Level Stewardship</td>\n",
       "      <td>East Midlands</td>\n",
       "      <td>WHITE PEAK</td>\n",
       "      <td>Derbyshire</td>\n",
       "      <td>2013.27</td>\n",
       "      <td>3285.87</td>\n",
       "      <td>Live</td>\n",
       "      <td>26/10/2009</td>\n",
       "      <td>01/10/2009</td>\n",
       "      <td>A13,EA1,EB11,EL6,FDS,FEP,FSH,GF,HK16,HK6,HL10,...</td>\n",
       "      <td>SK</td>\n",
       "      <td>30/09/2021</td>\n",
       "      <td>East Midlands Area Team</td>\n",
       "      <td>95.87</td>\n",
       "      <td>144685.65</td>\n",
       "      <td>112089.23</td>\n",
       "      <td>5.0</td>\n",
       "      <td>95.87</td>\n",
       "      <td>NULL</td>\n",
       "      <td>N</td>\n",
       "      <td>N</td>\n",
       "      <td>N</td>\n",
       "      <td>8261.294114</td>\n",
       "      <td>9.586792e+05</td>\n",
       "      <td>MULTIPOLYGON (((419506.820 373301.300, 419510....</td>\n",
       "      <td>2021</td>\n",
       "      <td>0.958679</td>\n",
       "    </tr>\n",
       "    <tr>\n",
       "      <th>1</th>\n",
       "      <td>152</td>\n",
       "      <td>AG00284627</td>\n",
       "      <td>090658009</td>\n",
       "      <td>Peak District National Park Authority</td>\n",
       "      <td>Bakewell</td>\n",
       "      <td>Higher Level Stewardship</td>\n",
       "      <td>West Midlands</td>\n",
       "      <td>SOUTH WEST PEAK</td>\n",
       "      <td>Staffordshire</td>\n",
       "      <td>0.00</td>\n",
       "      <td>11970.25</td>\n",
       "      <td>Live</td>\n",
       "      <td>01/07/2010</td>\n",
       "      <td>01/07/2010</td>\n",
       "      <td>A13,CCG,FDS,FEP,FSH2010,GBD,GF,HC7,HC8,HK16,HK...</td>\n",
       "      <td>SJ</td>\n",
       "      <td>30/06/2020</td>\n",
       "      <td>East Midlands Area Team</td>\n",
       "      <td>412.45</td>\n",
       "      <td>419061.44</td>\n",
       "      <td>403596.88</td>\n",
       "      <td>93.0</td>\n",
       "      <td>412.45</td>\n",
       "      <td>NULL</td>\n",
       "      <td>N</td>\n",
       "      <td>N</td>\n",
       "      <td>Y</td>\n",
       "      <td>50600.853088</td>\n",
       "      <td>4.124155e+06</td>\n",
       "      <td>MULTIPOLYGON (((408334.600 358845.150, 408402....</td>\n",
       "      <td>2020</td>\n",
       "      <td>4.124155</td>\n",
       "    </tr>\n",
       "  </tbody>\n",
       "</table>\n",
       "</div>"
      ],
      "text/plain": [
       "   FID_1       AGREF  ... END_YEAR AREA_CLIP\n",
       "0     44  AG00267487  ...     2021  0.958679\n",
       "1    152  AG00284627  ...     2020  4.124155\n",
       "\n",
       "[2 rows x 32 columns]"
      ]
     },
     "execution_count": 40,
     "metadata": {},
     "output_type": "execute_result"
    }
   ],
   "source": [
    "# take a look at the first 2 rows of the df to check :)\n",
    "ES_clip_gdf.head(2)"
   ]
  },
  {
   "cell_type": "markdown",
   "metadata": {},
   "source": [
    "# Data Analysis"
   ]
  },
  {
   "cell_type": "markdown",
   "metadata": {},
   "source": [
    "### What is the area of land in Environmental Stewardship Agreements?"
   ]
  },
  {
   "cell_type": "code",
   "execution_count": 41,
   "metadata": {},
   "outputs": [
    {
     "name": "stdout",
     "output_type": "stream",
     "text": [
      "644.9434492251772 sq km\n"
     ]
    }
   ],
   "source": [
    "Total_ES_area = ES_clip_gdf['AREA_CLIP'].sum()\n",
    "print (Total_ES_area, \"sq km\")"
   ]
  },
  {
   "cell_type": "markdown",
   "metadata": {},
   "source": [
    "### By year, what is the area of land by which Environmental Stewardship agreements will be ending?"
   ]
  },
  {
   "cell_type": "code",
   "execution_count": 42,
   "metadata": {},
   "outputs": [
    {
     "name": "stdout",
     "output_type": "stream",
     "text": [
      "                    FID_1   ELSAREA  ...    SHAPE_Leng    SHAPE_Area\n",
      "AREA_CLIP END_YEAR                   ...                            \n",
      "0.000019  2020       3035    140.80  ...   1685.470647  7.011354e+04\n",
      "0.000663  2023       7731      0.00  ...   3606.522527  5.094168e+05\n",
      "0.002861  2022       5314    161.85  ...   2768.683673  1.244791e+05\n",
      "0.005188  2023       6407    426.14  ...   4129.599755  3.275377e+05\n",
      "0.010778  2020       9663      0.00  ...    545.667853  1.261819e+04\n",
      "...                   ...       ...  ...           ...           ...\n",
      "19.021314 2022       5685  45650.64  ...  96662.554214  1.902131e+07\n",
      "22.682059 2023       5143  38562.80  ...  34973.649504  2.268206e+07\n",
      "23.135559 2023       5008  41643.72  ...  39874.368738  2.313556e+07\n",
      "24.110626 2023       8175  31344.95  ...  58879.259458  2.411173e+07\n",
      "24.479624 2022       5485  63647.22  ...  51232.656512  2.447962e+07\n",
      "\n",
      "[341 rows x 7 columns]\n"
     ]
    }
   ],
   "source": [
    "print(ES_clip_gdf.groupby(by=['AREA_CLIP', 'END_YEAR']).sum().groupby(level=[0]).cumsum())"
   ]
  },
  {
   "cell_type": "markdown",
   "metadata": {},
   "source": [
    "### What does the data look like?"
   ]
  },
  {
   "cell_type": "code",
   "execution_count": null,
   "metadata": {},
   "outputs": [],
   "source": []
  },
  {
   "cell_type": "code",
   "execution_count": null,
   "metadata": {},
   "outputs": [],
   "source": []
  }
 ],
 "metadata": {
  "kernelspec": {
   "display_name": "ArcGISPro",
   "language": "Python",
   "name": "python3"
  },
  "language_info": {
   "file_extension": ".py",
   "name": "python",
   "version": "3"
  }
 },
 "nbformat": 4,
 "nbformat_minor": 2
}
