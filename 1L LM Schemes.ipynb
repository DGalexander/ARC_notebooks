{
 "cells": [
  {
   "cell_type": "markdown",
   "metadata": {},
   "source": [
    "# 1\tDraft Data Dictionary Land Management Schemes [Oct 2020]"
   ]
  },
  {
   "cell_type": "markdown",
   "metadata": {},
   "source": [
    "## Introduction"
   ]
  },
  {
   "cell_type": "markdown",
   "metadata": {},
   "source": [
    "This is a reproducible data dictionary based on a python script to scrape Natural England and Forestry Comission open data in order to perform analysis for National Parks England. As this is a script, it can be re-run as and when the data is updated. Moreover, this anlysis is reproducible meaning this analysis can be copied or investigated and improved on. For further details contact;\n",
    "\n",
    "david.alexander@peakdistrict.gov.uk\n",
    "\n",
    "The area managed under agri-environment agreements: ie the total area under Environmental Stewardship (ES), Countryside Stewardship (CS) (including its different levels), and area under England Woodland Grant Scheme (EWGS)\n",
    "\n",
    "### Environmental Stewardship (ES)\n",
    "\n",
    "**ES** is an agri-environment scheme which provides funding to farmers and other land managers in England who deliver effective environmental management on their land.\n",
    "\n",
    "It has four elements:\n",
    "* Entry Level Stewardship (ELS)\n",
    "* Organic Entry Level Stewardship (OELS)\n",
    "* Uplands Entry Level Stewardship (Uplands ELS)\n",
    "* Higher Level Stewardship (HLS).\n",
    "\n",
    "Upland ELS can apply to any agreement with an ELS or OELS component and therefore their figures are subsumed in the ELS, ELS/HLS, OELS and OELS/HLS categories.\n",
    "\n",
    "##### Data available;\n",
    "\n",
    "1. **Environmental Stewardship Scheme (England) holdings agreement** polygons (includes farm business and payment info).\n",
    "\n",
    "2. **Environmental Stewardship Scheme (England) options** points derived from Genesis tables. \n",
    "\n",
    "### Countryside Stewardship (CS)\n",
    "\n",
    "**CS** is an agri-environment scheme with Higher Tier, full Mid tier, Mid Tier wildlife packages and Hedgerows and Boundaries grant schemes.\n",
    "\n",
    "##### Data available;\n",
    "\n",
    "3. **Countryside Stewardship Scheme 2016-2020 Management Areas** geographic extent and location of all land under management within the Countryside Stewardship Agri-Environment Scheme.\n",
    "\n",
    "4. **Countryside Stewardship Scheme Agreements** holding boundaries data.\n",
    "\n",
    "6. **Countryside Stewardship Scheme Agreement Option** Points. \n",
    "\n",
    "### England Woodland Grants Scheme (EWGS)\n",
    "\n",
    "**EWGS** is the legacy England Woodland Grant Scheme by the Forestry Commission. EWGS is now closed and was superseded by Countryside Stewardship in 2015.\n",
    "\n",
    "##### Data available\n",
    "\n",
    "7. **English Woodland Grant Scheme Boundary** The English Woodland Grant Scheme (EWGS) was launched in 2005 and offered 6 grants for the creation and stewardship of woodlands. This dataset contains the scheme or 'case' boundaries that make up the EWGS applications approved by the Forestry Commission. EWGS is now closed and was superseded by Countryside Stewardship in 2015.\n",
    "\n",
    "8. **England Woodland Grant Scheme 1** WGS1 operated between June 1988 and June 1991. It was replaced by WGS2.\n",
    "\n",
    "9. **England Woodland Grant Scheme 2** The dataset identifies areas approved by grant type. As the boundaries of the scheme were never digitised, an approximation polygon was created for each scheme. The approximation is based on the Ordnance Survey grid reference held for each scheme; this point location being buffered by a distance proportional to the total area of the scheme. WGS2 operated between June 1991 and September 1994. It was replaced by WGS3\n",
    "\n",
    "10. **England Woodland Grant Scheme 3** There are two spatial datasets associated with the WGS. These represent the scheme boundary and the grant areas that are encapsulated by this scheme boundary.WGS3 was operative from October 1994 until its closure to new applications in June 2004.\n",
    "\n",
    "### Further information\n",
    "\n",
    "The PDNPA and other NPAs also have their own small scale Land Management Grant Scheme not currently in this analysis."
   ]
  },
  {
   "cell_type": "markdown",
   "metadata": {},
   "source": [
    "## Manage the GIS"
   ]
  },
  {
   "cell_type": "code",
   "execution_count": 17,
   "metadata": {},
   "outputs": [
    {
     "name": "stdout",
     "output_type": "stream",
     "text": [
      "GIS @ https://www.arcgis.com/ version:8.3\n"
     ]
    }
   ],
   "source": [
    "from arcgis import GIS\n",
    "from arcgis.features.manage_data import extract_data\n",
    "import arcpy\n",
    "import os\n",
    "import pandas\n",
    "gis = GIS(\"Pro\")\n",
    "print(gis)"
   ]
  },
  {
   "cell_type": "code",
   "execution_count": 59,
   "metadata": {},
   "outputs": [],
   "source": [
    "# setup the environment\n",
    "%matplotlib inline\n",
    "arcpy.env.addOutputsToMap = True\n",
    "arcpy.env.overwriteOutput = True\n",
    "arcpy.env.workspace = 'C:/Users/alexad/Documents/ArcGIS/Projects/Land Management Schemes/data/'\n",
    "outgdb = 'C:/Users/alexad/Documents/ArcGIS/Projects/Land Management Schemes/Land Management Schemes.gdb'"
   ]
  },
  {
   "cell_type": "markdown",
   "metadata": {},
   "source": [
    "## Data used in this analysis\n",
    "\n",
    "Use the ESRI living Atlas layers as the sources of data"
   ]
  },
  {
   "cell_type": "code",
   "execution_count": 43,
   "metadata": {},
   "outputs": [],
   "source": [
    "# find the data\n",
    "CS_item = gis.content.get('b63046f37b5d4869b47ed16d4e23a168')\n",
    "ES_item = gis.content.get('ca68c90958c342a285d6370ddd7edd66')\n",
    "EWGS_item = gis.content.get('b04623c9c3d046e8a4e94666b6617df8')\n",
    "EWGS_1_item = gis.content.get('d527d55fd5104e80b1bf2d80643f5865')\n",
    "EWGS_2_item = gis.content.get('9752787986da4f44b4abd4bd4f494605')\n",
    "EWGS_3_item = gis.content.get('3e26fc54a1d4479f90d5f268cc83a0a9')\n",
    "PDNP_item = gis.content.get('73dc1cbc587f4e518a0010dceb9eab24')\n",
    "NPE_item = gis.content.get('d333c7529754444894e2d7f5044d1bbf')"
   ]
  },
  {
   "cell_type": "code",
   "execution_count": 44,
   "metadata": {},
   "outputs": [
    {
     "data": {
      "text/html": [
       "<div class=\"item_container\" style=\"height: auto; overflow: hidden; border: 1px solid #cfcfcf; border-radius: 2px; background: #f6fafa; line-height: 1.21429em; padding: 10px;\">\n",
       "                    <div class=\"item_left\" style=\"width: 210px; float: left;\">\n",
       "                       <a href='https://www.arcgis.com//home/item.html?id=b63046f37b5d4869b47ed16d4e23a168' target='_blank'>\n",
       "                        <img src='data:image/png;base64,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' width='200' height='133' class=\"itemThumbnail\">\n",
       "                       </a>\n",
       "                    </div>\n",
       "\n",
       "                    <div class=\"item_right\"     style=\"float: none; width: auto; overflow: hidden;\">\n",
       "                        <a href='https://www.arcgis.com//home/item.html?id=b63046f37b5d4869b47ed16d4e23a168' target='_blank'><b>Countryside Stewardship Scheme 2016 Management Areas (England)</b>\n",
       "                        </a>\n",
       "                        <br/>Countryside Stewardship Scheme 2016-2020 Management Areas - geographic extent and location of all land under management within the Countryside Stewardship Agri-Environment Scheme.<img src='https://www.arcgis.com//home/js/jsapi/esri/css/images/item_type_icons/featureshosted16.png' style=\"vertical-align:middle;\">Feature Layer Collection by Opendata_NE\n",
       "                        <br/>Last Modified: April 22, 2020\n",
       "                        <br/>0 comments, 3,603 views\n",
       "                    </div>\n",
       "                </div>\n",
       "                "
      ],
      "text/plain": [
       "<Item title:\"Countryside Stewardship Scheme 2016 Management Areas (England)\" type:Feature Layer Collection owner:Opendata_NE>"
      ]
     },
     "metadata": {},
     "output_type": "display_data"
    },
    {
     "data": {
      "text/html": [
       "<div class=\"item_container\" style=\"height: auto; overflow: hidden; border: 1px solid #cfcfcf; border-radius: 2px; background: #f6fafa; line-height: 1.21429em; padding: 10px;\">\n",
       "                    <div class=\"item_left\" style=\"width: 210px; float: left;\">\n",
       "                       <a href='https://www.arcgis.com//home/item.html?id=ca68c90958c342a285d6370ddd7edd66' target='_blank'>\n",
       "                        <img src='data:image/png;base64,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' width='200' height='133' class=\"itemThumbnail\">\n",
       "                       </a>\n",
       "                    </div>\n",
       "\n",
       "                    <div class=\"item_right\"     style=\"float: none; width: auto; overflow: hidden;\">\n",
       "                        <a href='https://www.arcgis.com//home/item.html?id=ca68c90958c342a285d6370ddd7edd66' target='_blank'><b>Environmental Stewardship Scheme Agreements (England)</b>\n",
       "                        </a>\n",
       "                        <br/>Environmental Stewardship Scheme (England) holdings agreement polygons (includes farm business and payment info)<img src='https://www.arcgis.com//home/js/jsapi/esri/css/images/item_type_icons/featureshosted16.png' style=\"vertical-align:middle;\">Feature Layer Collection by Opendata_NE\n",
       "                        <br/>Last Modified: April 22, 2020\n",
       "                        <br/>0 comments, 6,756 views\n",
       "                    </div>\n",
       "                </div>\n",
       "                "
      ],
      "text/plain": [
       "<Item title:\"Environmental Stewardship Scheme Agreements (England)\" type:Feature Layer Collection owner:Opendata_NE>"
      ]
     },
     "metadata": {},
     "output_type": "display_data"
    },
    {
     "data": {
      "text/html": [
       "<div class=\"item_container\" style=\"height: auto; overflow: hidden; border: 1px solid #cfcfcf; border-radius: 2px; background: #f6fafa; line-height: 1.21429em; padding: 10px;\">\n",
       "                    <div class=\"item_left\" style=\"width: 210px; float: left;\">\n",
       "                       <a href='https://www.arcgis.com//home/item.html?id=b04623c9c3d046e8a4e94666b6617df8' target='_blank'>\n",
       "                        <img src='data:image/png;base64,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' width='200' height='133' class=\"itemThumbnail\">\n",
       "                       </a>\n",
       "                    </div>\n",
       "\n",
       "                    <div class=\"item_right\"     style=\"float: none; width: auto; overflow: hidden;\">\n",
       "                        <a href='https://www.arcgis.com//home/item.html?id=b04623c9c3d046e8a4e94666b6617df8' target='_blank'><b>English Woodland Grant Scheme Boundary</b>\n",
       "                        </a>\n",
       "                        <br/>English Woodland Grant Scheme Boundary <img src='https://www.arcgis.com//home/js/jsapi/esri/css/images/item_type_icons/featureshosted16.png' style=\"vertical-align:middle;\">Feature Layer Collection by mapping.geodata_forestry\n",
       "                        <br/>Last Modified: November 14, 2016\n",
       "                        <br/>0 comments, 143 views\n",
       "                    </div>\n",
       "                </div>\n",
       "                "
      ],
      "text/plain": [
       "<Item title:\"English Woodland Grant Scheme Boundary\" type:Feature Layer Collection owner:mapping.geodata_forestry>"
      ]
     },
     "metadata": {},
     "output_type": "display_data"
    },
    {
     "data": {
      "text/html": [
       "<div class=\"item_container\" style=\"height: auto; overflow: hidden; border: 1px solid #cfcfcf; border-radius: 2px; background: #f6fafa; line-height: 1.21429em; padding: 10px;\">\n",
       "                    <div class=\"item_left\" style=\"width: 210px; float: left;\">\n",
       "                       <a href='https://www.arcgis.com//home/item.html?id=d527d55fd5104e80b1bf2d80643f5865' target='_blank'>\n",
       "                        <img src='data:image/png;base64,iVBORw0KGgoAAAANSUhEUgAAAMgAAACFCAIAAACR/CB7AAAACXBIWXMAAAAnAAAAJwEqCZFPAAAOL0lEQVR4nO2dMZqbSBOGW/9usBmtaO0IiDYUOoE1N/DcwL7J3mCOsLqBlG0olG0GnAA6W0eCcCP+4BuVS92AkGY0AlFv4AdQC2Hzuaq6urp7Vte1EoT35n/3fgDhMRFhCTdBhCXcBBGWcBNEWMJNEGEJN0GE1Zf1el1V1b2fYjTMJI/Vh6qqyrJUSmmtlVKe5937iYaOWKxeQFW+73ue53meMebeTzR0xGL1BWKq63o2mxVFEUWR2K0ORFiXEcdxGIZaa1FVNyKsy6iqSiTVB4mxLsPzvDiOJcY6iwjrMqqqWi6Xh8Ph3g8ydMQV9sIYk+e51joMQ3GFffj13g8wDvI8X61WdJplWV3XURTd74mGjrjCXoRhmGUZnWqtoyiSSKsDcYXngYB831dKFUUxm81838+ybLFY3PvRhosIqy8YKCyKQiklkjqLCOs8xhiYKzqVBOlZJMaycSMn3/fNEXX0iSBN0w99uPEgFusVY0xZllpr6MYYU9d1EATKsVhCH0RYJ3A9KaUkQr8aEVYviqLIsiyKIq11URSLxULMWDcSY71SVZUxhv60Pg2CAKoqyxLjOb7v7/f7ezzpOBCL9RNeJtrY6eOlDWgsRquNSVssskzo7nme5/s+io87yttR3YDGknxvY7oWC9KxLFNVVWmaYhDQNVqwWPjTCvMFi+kKC/AYHMdnFSNhex+mLiyL/X7/5csXpVRRFPP5vGd6XaTmIsJSqkUZSJkGQXDR6E2jh50gUwze3cC8UVVKqSAIMOrswsN2foz5YUhbvMvTjpQpWqz3mhDhGid3MHGyTNFiQQpVVXHT1ZYabaPN5YmqwBSFBQ6HA5/TjLxUf0tWlmVZllTyoJTKsgw5MIuqqnj16USYoitsY7/f95zfTEV/nuc1Jia4PZtmOD9di+XSf9Y8InStNdXVwJPCMiEvz2+V5/ltHnm4iMV6zTUURUG2pzu6r6oqz3NjzGq1omY8YUFfp8FHNb3YS4TVAB9g7kh+8mY0yUKxkR+lFA6g2kl5Q3GFJ1BXkcLwRlXRoDVNiQ6CgBQGAXFv2BjUPzZisRron+hqaxnH8XK5VCx+n5S5UmKxzmKlu/h12K3GDDvCLwRY00zBi7Aa4NaFezSejkrTFHmvs1G57/tlWU5t/VJxhV1YRTW8shSnSimqzbKC98abTAcRViukpEuVwdMN6tgxlBhLUOrUzHSoKssy7uPSNEV2FKdlWdJxW5XEoyIW6yfdlulqjzZBc6XEYnVTVVUcxzi2VGVVRnTE5hir5g2m0E8UYf2EMpw4hVMLw7CtfVEUaMx7jrzeQR3tHPeJahrDO+IKz0Ae0DpYr9ffvn1Dm/71C9OpdBBhtUKTdiiJoJgmpplE6I8Iqy/vYmymE8hLjNUXq8Rqapn0SxFhnXBpf80Ys91u+VBPR+E85pO96fnGgwjrhP5pTM/z1uu17/tRFPH9BDoCL9/3pxOWSYylVL9I3G3jTs93v6KOK01ObaNDEdY7YBWLuosATrALKa6wL43hF5WSUtUoFvuzmrVl7R84BS/C6gufK0EHPMUFHlgrFyHCupI2AfWJ0KmoxtXlwyDC6qJRPVShxctj+oijbR2Rh0SCdxs3w86nHLq4G1U0Lg3CV/aeQiwvwjrBHXLmuAMyU5DIdYiwztA4xfld7vbYSIx1Bp5VR8kejvvvosPDqbOqaqsZHF1MJsI6AS+Vv8XZbKaOte28x2dtr2qpgevjIhNl1QziVtvtVmuN07HUzouwXjXBlcF9H4ZiaLpO/xtSeypu7v9djud5X79+xeI2VVXN5/NRpCdEWCdYIRT2A6OqhO51HHDKVQVR8s2kO6TZZ2VUq3RnyIiwXjVB8ZP17vHpYrFoi36s/Sno3VMOoigKatDmFsnr4Suu/visslFoS3qFP4njGNblbLFoWy0DXexOfbUBYUGIQRDw9Ji1ROAItFULdV2WZZqm7sW29kVRXHT/NE077tbxVPjT+jmcXvoMH4y4QqWUKsuS17og3Eb/i2/ae9ajtbFYLPjKM2c7AShDJU+62+34R/j1oefD7q3s4dJmEvI8r4+GxLJDV5iltt9tvFUcx3Vdb7dbnO52u7f/3I0QYZ1g+cQOdwNhWQ60UQ38Jhcpj7s890nEFY4Ja7JDx46EWBnLKhZ1+3SUdOiD9Vvc2dEIJrUcuCsUYZ3ksmmFbWC9PyvjUBRFYw7CeuVcrBfN0uEyUqx+Szk6GyCSbmgG22GmaTqfz7XWu91uPp9jxzlOn1msVnaAZyLa9t6xshVYkhkHtBj9RRvffTwiLKWODovv8ex2APEi0abnrGgyeNvt9uvXrx0t+XQMXLHm8uP64XAIggDTGN0pG8Pi3kHegKDIOs/z4gj1vIqiSJKk+w7UoWsM0nknri01Rbkr9yuNvzVYRFivWO8pTVMICx91v8W2T3k+wk3A1kyCjTqjYyQ46qPgkG5F6mGwiLBeaRMHT5q7bbhl2u12rqFyr3SosPEURotsIUQWx/HALZb0Cl+p6xoZ9vV6za/zghkrArPSCsvlktINPFTKsowv7kA3ieMYd0DNoO/7WZZZsV1VVavVyhhjbfOEkcR3+8vfgnsr+/7AH1nZTiuc6hNgWffk362ZBUrT1HKLZBS5aYRlsloOOdVuIcI6ibitoAfBuxXxuFFRh690ocaNMT6/A/oQOI7jGHFV43j5ABFX+Op0PM/bbDZ8ffb9fq+UCsOQpg1icDrP8ziOqVbYuhW+pU7Tm3wkm2is2vN9nypOsfHTdrs1xkRRlCRJx9abQ+PXez/AUEjT9Pn5GcdJkiAFjyGdIAiwOi2qtQ6HA3SW5zlEiV2AlVLGGJp8wdOeZVnStnJns19hGOL+MGlIgBljqBJ1sElRjiRIbdwNS1CgjFPIZb/fUxY+juMwDDvq/ijD2UcQ1JiME+r+3KT/wBFhnQBvBasTRZG1rhV2vtRaJ0mCZbq718c6+1v8K1ysbW3GxL2DvMHBQ2NevYkDBDpW+Hw2ZkdvDnH32d7liLp+HYjFaoX7Mn4dEbrv+zQGzNdl6APf87fxFxtPx4X0ChtI05RmFHJowmoQBCg3AG2q4j1B2jgTgXmjYvCL2+2Wfu6Nf5E7IsJqgG9zkmUZ+v9W2R2WMaLUAJ+VSgVeWmtyCNxEuSuLcKP49PT0Tn+PeyKusIv9fl/XNXZ3tpxXY6zNMcbsdjvaFmXUfu0KRFhnoJRSmywaa7OQL9BaU3HzG/uMo0NcYTPkmzCD1F2d1qrIs9bq+Ouvv5AfR5h/hURGrSolFuuNUGaLT1nebDbPz89X7Pk7divFEWGdQLPsAS8LpkEbykForZEfr6oKKXIatznLw+8vJ8JqpSOrhPEZ11y5tG0pYAkLp2maYoCy8T5XmMA7IjHWCW4NAhXfufudYGrh4XBAyZ4xBkkHXr6nlGosRkiSpCzLLMtQDYGk/OFwwCJY1AzBHK/+G/KUL45YrDN0DB7HcYwKT4zwYCh6vV4/Pz+naUrJCNIlMhRWjWiWZciL0tQuKjfN81xrHYYhykfho8ditH75888/7/0Mg+aff/5pq38KguDHjx9//PHHfD7//Pnzv//+++nTpyiKfvvtN/4VGKH1ev3p0yfMIVNKlWX533//ZVn2999/a63TNF0ul7///rtS6sePH3meh2H4+fPnNE1ns9lqtZrNZjiu63roRclKKbFYhLuiVZ9CF14z49bJoM1ut0OKVSmF62TPYL2stW4ImC6tdZ7ntHBXY8Q2QB42xsJb4REJTz4ZZ7vK7rJMK/aCE4zjGPOkrSAM8+hRIFoUxdPTE2bDUssvX74gcvJ9P8/zJEloGJFKVauqgiv0fZ/GJbEJ1Nv+YT6IhxUWXgAPR1BlZemJK8xaiIGv8GGFNbBAq9VqsVh4npemKe6DNCl+mo7RAPP03UVyq6r69u1bkiRZlm02G0T0+Ai1o1VVRVF00Qq5Q2DqrtBKXCnmAeEcqSQGCyjUdR0EASULsLiDYqG3NYaIBkmS0BR7jCFGUbTdbpfLJYrZtdbz+ZysJmweXs0oKtxdJiGstq1KKK5yc1Tq3DqiaZqGYUirI8PrWat95HkeBAGt+KCO6nx5eXl+fg6CABO/PM9bLpcUll2UaB0sj+MKebUTQUN4+/3esAX4qawKn3JPBzuETzuSRrA0/Luz2YzSTlASym/gB5HlCoIgSZLv37/XdY0AK4qi5XK52Wxwk5eXl7IsX15eRuf7LB7NYrnGCaEP2YC2PJB7na+ZhvQSput07OJEvwhfVhTF4XB4enrCKf5EPK6O/xMQ1282m+/fv6tj8r07mz8KHsdiAb4SEP7TY64LvacOVbklyNbuI3SKkhjrDmiD0BvWSCm1XC5p8wGtNb5ljMmyjDqPvu8/PT2hFxlFEZzju/xr3JEHtFhkLa6eMtXYE7RsoTtLrK19Yz6Mf4orDyCmEz548sZNOTtpvfG69S2+aBEtqeBOq6eJ+XVdb7fb7lVrB74yzC14BGF1rK3QfzGFxpbW9C9rKpi7tP+7LMf9GIzeFbqlw43xO664Was+N6cKmY6dcGjVoUfzaNcyemG14aamkHlSt4lmHr5w71IeUFhuYpN390ZRc/IAPFq6QSlF6wqr0zkO101qEK7jQYRlreu/WCyMMfv9HqbL9/26rts2HBRuwYO4Qh5ct+XQJQD6SMZtsRqzizSaS9lwElwxkp26H4BxW6y2LEBbOcMHPtrUGZ+wqqpKkqR/OsraTUQc4scwPmFdCvR0kRaFtzM+YUkkPgpGIywKw2XYZBQMV1iNhShKgqSRMNx0g9uJo+XUheEzXIsljJrhWixh1IiwhJsgwhJugghLuAkiLOEm/B99RnOfUGN0fgAAAABJRU5ErkJggg==' width='200' height='133' class=\"itemThumbnail\">\n",
       "                       </a>\n",
       "                    </div>\n",
       "\n",
       "                    <div class=\"item_right\"     style=\"float: none; width: auto; overflow: hidden;\">\n",
       "                        <a href='https://www.arcgis.com//home/item.html?id=d527d55fd5104e80b1bf2d80643f5865' target='_blank'><b>Woodland Grant Scheme 1 England</b>\n",
       "                        </a>\n",
       "                        <br/>Woodland Grant Scheme 1 England<img src='https://www.arcgis.com//home/js/jsapi/esri/css/images/item_type_icons/featureshosted16.png' style=\"vertical-align:middle;\">Feature Layer Collection by mapping.geodata_forestry\n",
       "                        <br/>Last Modified: May 27, 2016\n",
       "                        <br/>0 comments, 414 views\n",
       "                    </div>\n",
       "                </div>\n",
       "                "
      ],
      "text/plain": [
       "<Item title:\"Woodland Grant Scheme 1 England\" type:Feature Layer Collection owner:mapping.geodata_forestry>"
      ]
     },
     "metadata": {},
     "output_type": "display_data"
    },
    {
     "data": {
      "text/html": [
       "<div class=\"item_container\" style=\"height: auto; overflow: hidden; border: 1px solid #cfcfcf; border-radius: 2px; background: #f6fafa; line-height: 1.21429em; padding: 10px;\">\n",
       "                    <div class=\"item_left\" style=\"width: 210px; float: left;\">\n",
       "                       <a href='https://www.arcgis.com//home/item.html?id=9752787986da4f44b4abd4bd4f494605' target='_blank'>\n",
       "                        <img src='data:image/png;base64,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' width='200' height='133' class=\"itemThumbnail\">\n",
       "                       </a>\n",
       "                    </div>\n",
       "\n",
       "                    <div class=\"item_right\"     style=\"float: none; width: auto; overflow: hidden;\">\n",
       "                        <a href='https://www.arcgis.com//home/item.html?id=9752787986da4f44b4abd4bd4f494605' target='_blank'><b>Woodland Grant Scheme 2 England</b>\n",
       "                        </a>\n",
       "                        <br/>Woodland Grant Scheme 2 England<img src='https://www.arcgis.com//home/js/jsapi/esri/css/images/item_type_icons/featureshosted16.png' style=\"vertical-align:middle;\">Feature Layer Collection by mapping.geodata_forestry\n",
       "                        <br/>Last Modified: August 20, 2018\n",
       "                        <br/>0 comments, 66 views\n",
       "                    </div>\n",
       "                </div>\n",
       "                "
      ],
      "text/plain": [
       "<Item title:\"Woodland Grant Scheme 2 England\" type:Feature Layer Collection owner:mapping.geodata_forestry>"
      ]
     },
     "metadata": {},
     "output_type": "display_data"
    },
    {
     "data": {
      "text/html": [
       "<div class=\"item_container\" style=\"height: auto; overflow: hidden; border: 1px solid #cfcfcf; border-radius: 2px; background: #f6fafa; line-height: 1.21429em; padding: 10px;\">\n",
       "                    <div class=\"item_left\" style=\"width: 210px; float: left;\">\n",
       "                       <a href='https://www.arcgis.com//home/item.html?id=3e26fc54a1d4479f90d5f268cc83a0a9' target='_blank'>\n",
       "                        <img src='data:image/png;base64,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' width='200' height='133' class=\"itemThumbnail\">\n",
       "                       </a>\n",
       "                    </div>\n",
       "\n",
       "                    <div class=\"item_right\"     style=\"float: none; width: auto; overflow: hidden;\">\n",
       "                        <a href='https://www.arcgis.com//home/item.html?id=3e26fc54a1d4479f90d5f268cc83a0a9' target='_blank'><b>Woodland Grant Scheme 3 England</b>\n",
       "                        </a>\n",
       "                        <br/>Woodland Grant Scheme 3 England<img src='https://www.arcgis.com//home/js/jsapi/esri/css/images/item_type_icons/featureshosted16.png' style=\"vertical-align:middle;\">Feature Layer Collection by mapping.geodata_forestry\n",
       "                        <br/>Last Modified: August 20, 2018\n",
       "                        <br/>0 comments, 73 views\n",
       "                    </div>\n",
       "                </div>\n",
       "                "
      ],
      "text/plain": [
       "<Item title:\"Woodland Grant Scheme 3 England\" type:Feature Layer Collection owner:mapping.geodata_forestry>"
      ]
     },
     "metadata": {},
     "output_type": "display_data"
    },
    {
     "data": {
      "text/html": [
       "<div class=\"item_container\" style=\"height: auto; overflow: hidden; border: 1px solid #cfcfcf; border-radius: 2px; background: #f6fafa; line-height: 1.21429em; padding: 10px;\">\n",
       "                    <div class=\"item_left\" style=\"width: 210px; float: left;\">\n",
       "                       <a href='https://www.arcgis.com//home/item.html?id=d333c7529754444894e2d7f5044d1bbf' target='_blank'>\n",
       "                        <img src='data:image/png;base64,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' width='200' height='133' class=\"itemThumbnail\">\n",
       "                       </a>\n",
       "                    </div>\n",
       "\n",
       "                    <div class=\"item_right\"     style=\"float: none; width: auto; overflow: hidden;\">\n",
       "                        <a href='https://www.arcgis.com//home/item.html?id=d333c7529754444894e2d7f5044d1bbf' target='_blank'><b>National Parks (England)</b>\n",
       "                        </a>\n",
       "                        <br/>National Parks (England). National Parks are run by National Park Authorities for the purpose of conserving and enhancing the natural beauty, wildlife and cultural heritage.<img src='https://www.arcgis.com//home/js/jsapi/esri/css/images/item_type_icons/featureshosted16.png' style=\"vertical-align:middle;\">Feature Layer Collection by Opendata_NE\n",
       "                        <br/>Last Modified: June 27, 2019\n",
       "                        <br/>0 comments, 59,053 views\n",
       "                    </div>\n",
       "                </div>\n",
       "                "
      ],
      "text/plain": [
       "<Item title:\"National Parks (England)\" type:Feature Layer Collection owner:Opendata_NE>"
      ]
     },
     "metadata": {},
     "output_type": "display_data"
    }
   ],
   "source": [
    "# display the items\n",
    "data = [CS_item, ES_item, EWGS_item, EWGS_1_item, EWGS_2_item, EWGS_3_item, NPE_item]\n",
    "for item in data:\n",
    "    display(item)"
   ]
  },
  {
   "cell_type": "code",
   "execution_count": 26,
   "metadata": {},
   "outputs": [],
   "source": [
    "# download the data\n",
    "CS_gbd = extract_data([CS_item], data_format = 'Shapefile')\n",
    "CS_gbd.download('C:/Users/alexad/Documents/ArcGIS/Projects/Land Management Schemes/data')\n",
    "ES_gbd = extract_data([ES_item], data_format = 'Shapefile')\n",
    "ES_gbd.download('C:/Users/alexad/Documents/ArcGIS/Projects/Land Management Schemes/data')\n",
    "NPE_gbd = extract_data([NPE_item], data_format = 'Shapefile')\n",
    "NPE_gbd.download('C:/Users/alexad/Documents/ArcGIS/Projects/Land Management Schemes/data')"
   ]
  },
  {
   "cell_type": "code",
   "execution_count": 27,
   "metadata": {},
   "outputs": [],
   "source": [
    "# add the data to the geodatabase\n",
    "fcs = arcpy.ListFeatureClasses()\n",
    "for fc in fcs:\n",
    "    desc = arcpy.da.Describe(fc)\n",
    "    outfc = os.path.join(outgdb, desc[\"baseName\"])\n",
    "    arcpy.CopyFeatures_management(fc, outfc)"
   ]
  },
  {
   "cell_type": "markdown",
   "metadata": {},
   "source": [
    "## Data pre-processing\n",
    "\n",
    "1. Clip the data to National Parks England (NPE) boundaries"
   ]
  },
  {
   "cell_type": "code",
   "execution_count": 60,
   "metadata": {},
   "outputs": [],
   "source": [
    "# Switch the workspace to the geodatabse\n",
    "arcpy.env.workspace = 'C:/Users/alexad/Documents/ArcGIS/Projects/Land Management Schemes/Land Management Schemes.gdb'\n",
    "# Clip the data to National Park England\n",
    "arcpy.Clip_analysis(\"Environmental_Stewardship_Scheme_Agreements__England____Natural_England\", \"National_Parks__England____Natural_England\", \"ES_clip\")\n",
    "arcpy.Clip_analysis(\"Countryside_Stewardship_Scheme_Management_Areas__England____Natural_England\", \"National_Parks__England____Natural_England\", \"CS_clip\")"
   ]
  },
  {
   "cell_type": "markdown",
   "metadata": {},
   "source": [
    "2. Call **geopandas** to create a df and use **Pandas** for data processing."
   ]
  },
  {
   "cell_type": "code",
   "execution_count": 30,
   "metadata": {},
   "outputs": [],
   "source": [
    "import geopandas as gpd\n",
    "import pandas as pd"
   ]
  },
  {
   "cell_type": "markdown",
   "metadata": {},
   "source": [
    "3. Create a new column **[END_YEAR]** and extract the calendar year from **[ENDDATE]** in the dataframe\n",
    "\n",
    "4. Create a new column **[AREA_CLIP]** using the clipped **geometry** and add the calculated area (as data has been clipped some agreements overlap the boundary). This new column shows the area (sqkm) just inside the National Parks boundary.\n",
    "\n",
    "5. **Sjoin** the NPE data to the ES and CS data so the data can be analysed collectivley and individually for all NP's"
   ]
  },
  {
   "cell_type": "code",
   "execution_count": 58,
   "metadata": {},
   "outputs": [
    {
     "data": {
      "text/plain": [
       "<matplotlib.axes._subplots.AxesSubplot object at 0x0000024B81E3D780>"
      ]
     },
     "execution_count": 58,
     "metadata": {},
     "output_type": "execute_result"
    }
   ],
   "source": [
    "# create a geopandas data frame for NPE\n",
    "NPE_gdf = gpd.read_file(\"C:/Users/alexad/Documents/ArcGIS/Projects/Land Management Schemes/Land Management Schemes.gdb/\", layer = \"National_Parks__England____Natural_England\")\n",
    "# take a look :o\n",
    "NPE_gdf.plot();"
   ]
  },
  {
   "cell_type": "markdown",
   "metadata": {},
   "source": [
    "##### Environmental Stewardship;"
   ]
  },
  {
   "cell_type": "code",
   "execution_count": 53,
   "metadata": {},
   "outputs": [
    {
     "data": {
      "text/html": [
       "<div>\n",
       "<style scoped>\n",
       "    .dataframe tbody tr th:only-of-type {\n",
       "        vertical-align: middle;\n",
       "    }\n",
       "\n",
       "    .dataframe tbody tr th {\n",
       "        vertical-align: top;\n",
       "    }\n",
       "\n",
       "    .dataframe thead th {\n",
       "        text-align: right;\n",
       "    }\n",
       "</style>\n",
       "<table border=\"1\" class=\"dataframe\">\n",
       "  <thead>\n",
       "    <tr style=\"text-align: right;\">\n",
       "      <th></th>\n",
       "      <th>FID_1_left</th>\n",
       "      <th>CODE</th>\n",
       "      <th>NAME</th>\n",
       "      <th>MEASURE</th>\n",
       "      <th>DESIG_DATE</th>\n",
       "      <th>HOTLINK</th>\n",
       "      <th>STATUS</th>\n",
       "      <th>SHAPE_Leng_left</th>\n",
       "      <th>Shape_Length_left</th>\n",
       "      <th>Shape_Area_left</th>\n",
       "      <th>geometry</th>\n",
       "      <th>index_right</th>\n",
       "      <th>FID_1_right</th>\n",
       "      <th>AGREF</th>\n",
       "      <th>CPH</th>\n",
       "      <th>CUSTNAME</th>\n",
       "      <th>TOWN</th>\n",
       "      <th>SCHEME</th>\n",
       "      <th>REGION</th>\n",
       "      <th>NCA</th>\n",
       "      <th>LAND_CTY</th>\n",
       "      <th>ELSAREA</th>\n",
       "      <th>HLSAREA</th>\n",
       "      <th>APPSTAT</th>\n",
       "      <th>LIVEDATE</th>\n",
       "      <th>STARTDAT</th>\n",
       "      <th>OPTSONAG</th>\n",
       "      <th>TILE</th>\n",
       "      <th>ENDDATE</th>\n",
       "      <th>RDA_NAME</th>\n",
       "      <th>GROSSAR</th>\n",
       "      <th>TOTCOST</th>\n",
       "      <th>AMTPAID</th>\n",
       "      <th>NUMPARCS</th>\n",
       "      <th>ARUAGR</th>\n",
       "      <th>PERMACS</th>\n",
       "      <th>EDUACS</th>\n",
       "      <th>UELSFLG</th>\n",
       "      <th>BUS_FLAG</th>\n",
       "      <th>SHAPE_Leng_right</th>\n",
       "      <th>Shape_Length_right</th>\n",
       "      <th>Shape_Area_right</th>\n",
       "      <th>END_YEAR</th>\n",
       "      <th>AREA_CLIP</th>\n",
       "    </tr>\n",
       "  </thead>\n",
       "  <tbody>\n",
       "    <tr>\n",
       "      <th>0</th>\n",
       "      <td>1</td>\n",
       "      <td>10</td>\n",
       "      <td>SOUTH DOWNS</td>\n",
       "      <td>1653.0</td>\n",
       "      <td>2009-11-02T00:00:00</td>\n",
       "      <td>http://southdowns.gov.uk/</td>\n",
       "      <td>Designated</td>\n",
       "      <td>602554.506861</td>\n",
       "      <td>602554.506861</td>\n",
       "      <td>1.652679e+09</td>\n",
       "      <td>MULTIPOLYGON (((484696.203 108041.303, 484694....</td>\n",
       "      <td>513</td>\n",
       "      <td>7739</td>\n",
       "      <td>AG00470413</td>\n",
       "      <td>150080081</td>\n",
       "      <td>JR &amp; DL Wolfe</td>\n",
       "      <td>Alton</td>\n",
       "      <td>Entry Level plus Higher Level Stewardship</td>\n",
       "      <td>South East</td>\n",
       "      <td>HAMPSHIRE DOWNS</td>\n",
       "      <td>Hampshire</td>\n",
       "      <td>2619.04</td>\n",
       "      <td>71.84</td>\n",
       "      <td>Live</td>\n",
       "      <td>30/09/2013</td>\n",
       "      <td>01/10/2013</td>\n",
       "      <td>A13,C,EA1,EB2,EB3,EC1,ED3,EE3,EE6,EF22,EF4,EG1...</td>\n",
       "      <td>SU</td>\n",
       "      <td>30/09/2023</td>\n",
       "      <td>Dorset, Hampshire and the Isle of Wight Area Team</td>\n",
       "      <td>163.69</td>\n",
       "      <td>74398.37</td>\n",
       "      <td>68368.84</td>\n",
       "      <td>30.0</td>\n",
       "      <td>163.69</td>\n",
       "      <td>NULL</td>\n",
       "      <td>N</td>\n",
       "      <td>N</td>\n",
       "      <td>Y</td>\n",
       "      <td>16830.339534</td>\n",
       "      <td>16830.950910</td>\n",
       "      <td>1.636828e+06</td>\n",
       "      <td>2023</td>\n",
       "      <td>1.636828</td>\n",
       "    </tr>\n",
       "    <tr>\n",
       "      <th>0</th>\n",
       "      <td>1</td>\n",
       "      <td>10</td>\n",
       "      <td>SOUTH DOWNS</td>\n",
       "      <td>1653.0</td>\n",
       "      <td>2009-11-02T00:00:00</td>\n",
       "      <td>http://southdowns.gov.uk/</td>\n",
       "      <td>Designated</td>\n",
       "      <td>602554.506861</td>\n",
       "      <td>602554.506861</td>\n",
       "      <td>1.652679e+09</td>\n",
       "      <td>MULTIPOLYGON (((484696.203 108041.303, 484694....</td>\n",
       "      <td>515</td>\n",
       "      <td>7770</td>\n",
       "      <td>AG00471670</td>\n",
       "      <td>152200094</td>\n",
       "      <td>REED FARM PARTNERSHIP</td>\n",
       "      <td>PETERSFIELD</td>\n",
       "      <td>Entry Level plus Higher Level Stewardship</td>\n",
       "      <td>South East</td>\n",
       "      <td>HAMPSHIRE DOWNS</td>\n",
       "      <td>Hampshire</td>\n",
       "      <td>2032.29</td>\n",
       "      <td>187.07</td>\n",
       "      <td>Live</td>\n",
       "      <td>29/08/2013</td>\n",
       "      <td>01/09/2013</td>\n",
       "      <td>A13,E,EA1,EB2,EB3,EC1,EC2,EE3,EF1,EF22,EK3,FEP...</td>\n",
       "      <td>SU</td>\n",
       "      <td>31/08/2023</td>\n",
       "      <td>Dorset, Hampshire and the Isle of Wight Area Team</td>\n",
       "      <td>156.33</td>\n",
       "      <td>92707.04</td>\n",
       "      <td>61583.83</td>\n",
       "      <td>43.0</td>\n",
       "      <td>156.33</td>\n",
       "      <td>NULL</td>\n",
       "      <td>N</td>\n",
       "      <td>N</td>\n",
       "      <td>Y</td>\n",
       "      <td>19660.611946</td>\n",
       "      <td>19660.611896</td>\n",
       "      <td>1.588621e+06</td>\n",
       "      <td>2023</td>\n",
       "      <td>1.588621</td>\n",
       "    </tr>\n",
       "  </tbody>\n",
       "</table>\n",
       "</div>"
      ],
      "text/plain": [
       "   FID_1_left  CODE         NAME  ...  Shape_Area_right END_YEAR AREA_CLIP\n",
       "0           1    10  SOUTH DOWNS  ...      1.636828e+06     2023  1.636828\n",
       "0           1    10  SOUTH DOWNS  ...      1.588621e+06     2023  1.588621\n",
       "\n",
       "[2 rows x 44 columns]"
      ]
     },
     "execution_count": 53,
     "metadata": {},
     "output_type": "execute_result"
    }
   ],
   "source": [
    "# create a geopandas data frame\n",
    "ES_clip_gdf = gpd.read_file(\"C:/Users/alexad/Documents/ArcGIS/Projects/Land Management Schemes/Land Management Schemes.gdb/\", layer = \"ES_clip\")\n",
    "# create the [END_YEAR] column\n",
    "ES_clip_gdf['END_YEAR'] = pd.DatetimeIndex(ES_clip_gdf['ENDDATE']).year\n",
    "# create the [AREA] column\n",
    "ES_clip_gdf['AREA_CLIP'] = ES_clip_gdf['geometry'].area/10**6\n",
    "# create a spatial join and append the NPE to the left of the gpd\n",
    "ES_clip_gdf = gpd.sjoin(NPE_gdf, ES_clip_gdf, how=\"inner\", op=\"intersects\")\n",
    "# take a look at the first 2 rows of the df to check :)\n",
    "ES_clip_gdf.head(2)"
   ]
  },
  {
   "cell_type": "markdown",
   "metadata": {},
   "source": [
    "##### Countryside Stewardship; "
   ]
  },
  {
   "cell_type": "code",
   "execution_count": 54,
   "metadata": {},
   "outputs": [
    {
     "data": {
      "text/html": [
       "<div>\n",
       "<style scoped>\n",
       "    .dataframe tbody tr th:only-of-type {\n",
       "        vertical-align: middle;\n",
       "    }\n",
       "\n",
       "    .dataframe tbody tr th {\n",
       "        vertical-align: top;\n",
       "    }\n",
       "\n",
       "    .dataframe thead th {\n",
       "        text-align: right;\n",
       "    }\n",
       "</style>\n",
       "<table border=\"1\" class=\"dataframe\">\n",
       "  <thead>\n",
       "    <tr style=\"text-align: right;\">\n",
       "      <th></th>\n",
       "      <th>FID_1_left</th>\n",
       "      <th>CODE</th>\n",
       "      <th>NAME</th>\n",
       "      <th>MEASURE</th>\n",
       "      <th>DESIG_DATE</th>\n",
       "      <th>HOTLINK</th>\n",
       "      <th>STATUS_left</th>\n",
       "      <th>SHAPE_Leng_left</th>\n",
       "      <th>Shape_Length_left</th>\n",
       "      <th>Shape_Area_left</th>\n",
       "      <th>geometry</th>\n",
       "      <th>index_right</th>\n",
       "      <th>FID_1_right</th>\n",
       "      <th>CSREF</th>\n",
       "      <th>STATUS_right</th>\n",
       "      <th>CS_TYPE</th>\n",
       "      <th>STARTDATE</th>\n",
       "      <th>ENDDATE</th>\n",
       "      <th>ORG_NAME</th>\n",
       "      <th>DURATION</th>\n",
       "      <th>TOTVAL</th>\n",
       "      <th>GROSSAR</th>\n",
       "      <th>SUM_GIS_HA</th>\n",
       "      <th>AVGANNCOST</th>\n",
       "      <th>TOTVAL_NO</th>\n",
       "      <th>APP_YEAR</th>\n",
       "      <th>MAG_CS_TYP</th>\n",
       "      <th>SHAPE_Leng_right</th>\n",
       "      <th>Shape_Length_right</th>\n",
       "      <th>Shape_Area_right</th>\n",
       "      <th>END_YEAR</th>\n",
       "      <th>AREA_CLIP</th>\n",
       "    </tr>\n",
       "  </thead>\n",
       "  <tbody>\n",
       "    <tr>\n",
       "      <th>0</th>\n",
       "      <td>1</td>\n",
       "      <td>10</td>\n",
       "      <td>SOUTH DOWNS</td>\n",
       "      <td>1653.0</td>\n",
       "      <td>2009-11-02T00:00:00</td>\n",
       "      <td>http://southdowns.gov.uk/</td>\n",
       "      <td>Designated</td>\n",
       "      <td>602554.506861</td>\n",
       "      <td>602554.506861</td>\n",
       "      <td>1.652679e+09</td>\n",
       "      <td>MULTIPOLYGON (((484696.203 108041.303, 484694....</td>\n",
       "      <td>471</td>\n",
       "      <td>14381</td>\n",
       "      <td>674733</td>\n",
       "      <td>Agreement Live</td>\n",
       "      <td>Mid Tier</td>\n",
       "      <td>01-01-2019 00:00:00</td>\n",
       "      <td>31-12-2023 00:00:00</td>\n",
       "      <td>National Trust</td>\n",
       "      <td>5</td>\n",
       "      <td>28291.95</td>\n",
       "      <td>190.65</td>\n",
       "      <td>38.135134</td>\n",
       "      <td>5658.39</td>\n",
       "      <td>28291.95</td>\n",
       "      <td>2018</td>\n",
       "      <td>COUNTRYSIDE STEWARDSHIP (Middle Tier)\\n\\n</td>\n",
       "      <td>2906.83452</td>\n",
       "      <td>2906.834520</td>\n",
       "      <td>3.813513e+05</td>\n",
       "      <td>2023</td>\n",
       "      <td>0.381351</td>\n",
       "    </tr>\n",
       "    <tr>\n",
       "      <th>0</th>\n",
       "      <td>1</td>\n",
       "      <td>10</td>\n",
       "      <td>SOUTH DOWNS</td>\n",
       "      <td>1653.0</td>\n",
       "      <td>2009-11-02T00:00:00</td>\n",
       "      <td>http://southdowns.gov.uk/</td>\n",
       "      <td>Designated</td>\n",
       "      <td>602554.506861</td>\n",
       "      <td>602554.506861</td>\n",
       "      <td>1.652679e+09</td>\n",
       "      <td>MULTIPOLYGON (((484696.203 108041.303, 484694....</td>\n",
       "      <td>1808</td>\n",
       "      <td>14413</td>\n",
       "      <td>676435</td>\n",
       "      <td>Agreement Live</td>\n",
       "      <td>WOODLAND MANAGEMENT PLAN</td>\n",
       "      <td>01-05-2019 00:00:00</td>\n",
       "      <td>30-04-2021 00:00:00</td>\n",
       "      <td>EASTBOURNE BOROUGH COUNCIL</td>\n",
       "      <td>2</td>\n",
       "      <td>2259.1</td>\n",
       "      <td>666.33</td>\n",
       "      <td>144.273096</td>\n",
       "      <td>1129.55</td>\n",
       "      <td>2259.10</td>\n",
       "      <td>2019</td>\n",
       "      <td>WOODLAND MANAGEMENT PLAN</td>\n",
       "      <td>27086.53521</td>\n",
       "      <td>26847.071626</td>\n",
       "      <td>1.437498e+06</td>\n",
       "      <td>2021</td>\n",
       "      <td>1.437498</td>\n",
       "    </tr>\n",
       "  </tbody>\n",
       "</table>\n",
       "</div>"
      ],
      "text/plain": [
       "   FID_1_left  CODE         NAME  ...  Shape_Area_right END_YEAR AREA_CLIP\n",
       "0           1    10  SOUTH DOWNS  ...      3.813513e+05     2023  0.381351\n",
       "0           1    10  SOUTH DOWNS  ...      1.437498e+06     2021  1.437498\n",
       "\n",
       "[2 rows x 32 columns]"
      ]
     },
     "execution_count": 54,
     "metadata": {},
     "output_type": "execute_result"
    }
   ],
   "source": [
    "# create a geopandas data frame\n",
    "CS_clip_gdf = gpd.read_file(\"C:/Users/alexad/Documents/ArcGIS/Projects/Land Management Schemes/Land Management Schemes.gdb/\", layer = \"CS_clip\")\n",
    "# create the [END_YEAR] column\n",
    "CS_clip_gdf['END_YEAR'] = pd.DatetimeIndex(CS_clip_gdf['ENDDATE']).year\n",
    "# create the [AREA] column\n",
    "CS_clip_gdf['AREA_CLIP'] = CS_clip_gdf['geometry'].area/10**6\n",
    "# create a spatial join and append the NPE to the left of the gpd\n",
    "CS_clip_gdf = gpd.sjoin(NPE_gdf, CS_clip_gdf, how=\"inner\", op=\"intersects\")\n",
    "# take a look at the first 2 rows of the df to check :)\n",
    "CS_clip_gdf.head(2)"
   ]
  },
  {
   "cell_type": "markdown",
   "metadata": {},
   "source": [
    "# Data Analysis"
   ]
  },
  {
   "cell_type": "code",
   "execution_count": 55,
   "metadata": {},
   "outputs": [
    {
     "ename": "NameError",
     "evalue": "name 'NP_gdf' is not defined",
     "output_type": "error",
     "traceback": [
      "\u001b[0;31m---------------------------------------------------------------------------\u001b[0m\n\u001b[0;31mNameError\u001b[0m                                 Traceback (most recent call last)",
      "In  \u001b[0;34m[55]\u001b[0m:\nLine \u001b[0;34m1\u001b[0m:     NP_gdf.plot()\n",
      "\u001b[0;31mNameError\u001b[0m: name 'NP_gdf' is not defined\n\u001b[0;31m---------------------------------------------------------------------------\u001b[0m"
     ]
    }
   ],
   "source": [
    "NP_gdf.plot()"
   ]
  },
  {
   "cell_type": "markdown",
   "metadata": {},
   "source": [
    "### What is the area of land in Environmental & Countryside Stewardship Agreements?"
   ]
  },
  {
   "cell_type": "code",
   "execution_count": 40,
   "metadata": {},
   "outputs": [
    {
     "name": "stdout",
     "output_type": "stream",
     "text": [
      "4986.154051473986 sq km 1380.2106257142204 sq km\n"
     ]
    }
   ],
   "source": [
    "Total_ES_area = ES_clip_gdf['AREA_CLIP'].sum()\n",
    "Total_CS_area = CS_clip_gdf['AREA_CLIP'].sum()\n",
    "print (Total_ES_area, \"sq km\", Total_CS_area, \"sq km\")"
   ]
  },
  {
   "cell_type": "markdown",
   "metadata": {},
   "source": [
    "### By year, what is the area of land by which Environmental Stewardship agreements will be ending?"
   ]
  },
  {
   "cell_type": "code",
   "execution_count": 42,
   "metadata": {},
   "outputs": [
    {
     "name": "stdout",
     "output_type": "stream",
     "text": [
      "                    FID_1   ELSAREA  ...    SHAPE_Leng    SHAPE_Area\n",
      "AREA_CLIP END_YEAR                   ...                            \n",
      "0.000019  2020       3035    140.80  ...   1685.470647  7.011354e+04\n",
      "0.000663  2023       7731      0.00  ...   3606.522527  5.094168e+05\n",
      "0.002861  2022       5314    161.85  ...   2768.683673  1.244791e+05\n",
      "0.005188  2023       6407    426.14  ...   4129.599755  3.275377e+05\n",
      "0.010778  2020       9663      0.00  ...    545.667853  1.261819e+04\n",
      "...                   ...       ...  ...           ...           ...\n",
      "19.021314 2022       5685  45650.64  ...  96662.554214  1.902131e+07\n",
      "22.682059 2023       5143  38562.80  ...  34973.649504  2.268206e+07\n",
      "23.135559 2023       5008  41643.72  ...  39874.368738  2.313556e+07\n",
      "24.110626 2023       8175  31344.95  ...  58879.259458  2.411173e+07\n",
      "24.479624 2022       5485  63647.22  ...  51232.656512  2.447962e+07\n",
      "\n",
      "[341 rows x 7 columns]\n"
     ]
    }
   ],
   "source": [
    "print(ES_clip_gdf.groupby(by=['AREA_CLIP', 'END_YEAR']).sum().groupby(level=[0]).cumsum())"
   ]
  },
  {
   "cell_type": "markdown",
   "metadata": {},
   "source": [
    "### What does the data look like?"
   ]
  },
  {
   "cell_type": "code",
   "execution_count": null,
   "metadata": {},
   "outputs": [],
   "source": []
  },
  {
   "cell_type": "code",
   "execution_count": null,
   "metadata": {},
   "outputs": [],
   "source": []
  }
 ],
 "metadata": {
  "kernelspec": {
   "display_name": "ArcGISPro",
   "language": "Python",
   "name": "python3"
  },
  "language_info": {
   "file_extension": ".py",
   "name": "python",
   "version": "3"
  }
 },
 "nbformat": 4,
 "nbformat_minor": 2
}
